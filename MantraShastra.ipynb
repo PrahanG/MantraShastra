import pandas as pd
import numpy as np
from sklearn.feature_extraction.text import TfidfVectorizer
from sklearn.neighbors import NearestNeighbors

# Load Excel file
file_path = "/content/data.xlsx"  # Update with your actual file path
xls = pd.ExcelFile(file_path)

# Load keywords from Sheet1 and remove duplicates & missing values
df_keywords = xls.parse("Sheet1")[["Keywords"]].drop_duplicates().dropna()

# Convert keywords to lowercase and clean text
df_keywords["Processed_Keywords"] = df_keywords["Keywords"].str.lower().str.strip()

# Convert cleaned keywords into TF-IDF vectors
vectorizer = TfidfVectorizer()
tfidf_matrix = vectorizer.fit_transform(df_keywords["Processed_Keywords"])

# Initialize KNN model with Cosine Similarity
knn = NearestNeighbors(n_neighbors=5, metric="manhattan")
knn.fit(tfidf_matrix)

# Function to find similar keywords
def get_similar_keywords(keyword, top_n=5):
    query_vector = vectorizer.transform([keyword.lower().strip()])  # Convert input keyword to vector
    distances, indices = knn.kneighbors(query_vector, n_neighbors=top_n)  # Find neighbors
    similar_keywords = df_keywords.iloc[indices[0]]["Processed_Keywords"].values
    return list(zip(similar_keywords, distances[0]))

# Function to calculate Mean Reciprocal Rank (MRR)
def mean_reciprocal_rank(results, relevant_keywords):
    relevant_keywords = [word.lower().strip() for word in relevant_keywords]
    ranks = []
    for i, (word, _) in enumerate(results):
        if word in relevant_keywords:
            ranks.append(1 / (i + 1))  # 1 / rank position
    return np.mean(ranks) if ranks else 0

# Example usage
keyword_input = "health"
similar_words = get_similar_keywords(keyword_input)

# Print retrieved similar keywords
print("\n🔹 Retrieved Similar Keywords:")
for word, score in similar_words:
    print(f"{word} (Similarity Score: {score:.4f})")

# Example evaluation
relevant_keywords = ["health", "wellness"]  # Expected relevant keywords
mrr_score = mean_reciprocal_rank(similar_words, relevant_keywords)
print(f"\n📌 MRR Score: {mrr_score:.4f}")
