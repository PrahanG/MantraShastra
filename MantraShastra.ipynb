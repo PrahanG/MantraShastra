{
  "nbformat": 4,
  "nbformat_minor": 0,
  "metadata": {
    "colab": {
      "provenance": [],
      "authorship_tag": "ABX9TyOwaLPs1wyWttMs5XQLiIAF",
      "include_colab_link": true
    },
    "kernelspec": {
      "name": "python3",
      "display_name": "Python 3"
    },
    "language_info": {
      "name": "python"
    }
  },
  "cells": [
    {
      "cell_type": "markdown",
      "metadata": {
        "id": "view-in-github",
        "colab_type": "text"
      },
      "source": [
        "<a href=\"https://colab.research.google.com/github/PrahanG/MantraShastra/blob/main/MantraShastra.ipynb\" target=\"_parent\"><img src=\"https://colab.research.google.com/assets/colab-badge.svg\" alt=\"Open In Colab\"/></a>"
      ]
    },
    {
      "cell_type": "code",
      "execution_count": null,
      "metadata": {
        "colab": {
          "base_uri": "https://localhost:8080/"
        },
        "id": "sH_1yDwiL2RN",
        "outputId": "10a9f377-962f-49cb-c00f-0dfa4651b55d"
      },
      "outputs": [
        {
          "output_type": "stream",
          "name": "stdout",
          "text": [
            "                                            Keywords  \\\n",
            "0  Amba Bhavani Sharade, Devotional Song, Sri Gan...   \n",
            "1  Sampoorna Bhagavad Gita Parayana, Ganapathy Sa...   \n",
            "2      Solution for Financial Problems, Sundarakanda   \n",
            "3  Unrevealed Secrets, Chandiyagam, Ancient Secre...   \n",
            "4     Science of Bhakti yoga, Devotee and Deal Maker   \n",
            "\n",
            "                                  Processed_Keywords  \n",
            "0  amba bhavani sharade, devotional song, sri gan...  \n",
            "1  sampoorna bhagavad gita parayana, ganapathy sa...  \n",
            "2      solution for financial problems, sundarakanda  \n",
            "3  unrevealed secrets, chandiyagam, ancient secre...  \n",
            "4     science of bhakti yoga, devotee and deal maker  \n",
            "TF-IDF Matrix Shape: (141, 355)\n"
          ]
        }
      ],
      "source": [
        "import pandas as pd\n",
        "from sklearn.feature_extraction.text import TfidfVectorizer\n",
        "file_path = \"/content/data.xlsx\"\n",
        "xls = pd.ExcelFile(file_path)\n",
        "\n",
        "# Load keywords from Sheet1 and remove duplicates\n",
        "df_keywords = xls.parse(\"Sheet1\")[[\"Keywords\"]].drop_duplicates()\n",
        "\n",
        "# Drop missing values\n",
        "df_keywords = df_keywords.dropna()\n",
        "\n",
        "# Convert keywords to lowercase and remove extra spaces\n",
        "df_keywords[\"Processed_Keywords\"] = df_keywords[\"Keywords\"].str.lower().str.strip()\n",
        "\n",
        "# Convert keywords to TF-IDF vectors\n",
        "vectorizer = TfidfVectorizer()\n",
        "tfidf_matrix = vectorizer.fit_transform(df_keywords[\"Processed_Keywords\"])\n",
        "\n",
        "# Display results\n",
        "print(df_keywords.head())\n",
        "print(f\"TF-IDF Matrix Shape: {tfidf_matrix.shape}\")\n"
      ]
    },
    {
      "cell_type": "code",
      "source": [
        "from sklearn.neighbors import NearestNeighbors\n",
        "\n",
        "# Initialize KNN model (using Cosine similarity)\n",
        "knn = NearestNeighbors(n_neighbors=5, metric=\"cosine\")\n",
        "knn.fit(tfidf_matrix)\n",
        "\n",
        "# Function to get similar keywords\n",
        "def get_similar_keywords(keyword, top_n=5):\n",
        "    query_vector = vectorizer.transform([keyword])  # Convert input keyword to vector\n",
        "    distances, indices = knn.kneighbors(query_vector, n_neighbors=top_n)  # Find neighbors\n",
        "    similar_keywords = df_keywords.iloc[indices[0]][\"Processed_Keywords\"].values\n",
        "    return list(zip(similar_keywords, distances[0]))\n",
        "\n",
        "# Example usage\n",
        "keyword_input = \"sleep\"\n",
        "similar_words = get_similar_keywords(keyword_input)\n",
        "print(\"Similar Keywords:\", similar_words)\n"
      ],
      "metadata": {
        "colab": {
          "base_uri": "https://localhost:8080/"
        },
        "id": "IoOw5etXNkoL",
        "outputId": "6d238b11-14a7-4188-d82c-d8fcad029f4f"
      },
      "execution_count": null,
      "outputs": [
        {
          "output_type": "stream",
          "name": "stdout",
          "text": [
            "Similar Keywords: [('hanuman mantra for good sleep', 0.44672407672375125), (\"mantra to chant before bed for a good night's sleep\", 0.6266186293154306), ('mantra for good health and happiness, kalki purana sloka', 1.0), ('wealtth, sri rama navami', 1.0), ('relief from all problems', 1.0)]\n"
          ]
        }
      ]
    },
    {
      "cell_type": "code",
      "source": [
        "import numpy as np\n",
        "\n",
        "def mean_reciprocal_rank(results, relevant_keywords):\n",
        "    ranks = []\n",
        "    for i, (word, _) in enumerate(results):\n",
        "        if word in relevant_keywords:\n",
        "            ranks.append(1 / (i + 1))  # 1 / rank position\n",
        "    return np.mean(ranks) if ranks else 0\n",
        "\n",
        "# Example evaluation\n",
        "relevant_keywords = [\"relif\",\"rest\"]  # Expected similar terms\n",
        "mrr_score = mean_reciprocal_rank(similar_words, relevant_keywords)\n",
        "print(\"MRR Score:\", mrr_score)\n"
      ],
      "metadata": {
        "colab": {
          "base_uri": "https://localhost:8080/"
        },
        "id": "2d66zutXNnUM",
        "outputId": "71229c86-6c85-44a2-8522-9a6f5598c6b1"
      },
      "execution_count": null,
      "outputs": [
        {
          "output_type": "stream",
          "name": "stdout",
          "text": [
            "MRR Score: 0\n"
          ]
        }
      ]
    },
    {
      "cell_type": "code",
      "source": [
        "keyword_input = \"sleep\"\n",
        "similar_words = get_similar_keywords(keyword_input)\n",
        "\n",
        "print(\"Retrieved Similar Keywords:\")\n",
        "for word, score in similar_words:\n",
        "    print(f\"{word} (Similarity Score: {score})\")\n"
      ],
      "metadata": {
        "colab": {
          "base_uri": "https://localhost:8080/"
        },
        "id": "kXilIEySOy80",
        "outputId": "ce1cde91-53e5-4f67-dc0f-f8c4ebc27891"
      },
      "execution_count": null,
      "outputs": [
        {
          "output_type": "stream",
          "name": "stdout",
          "text": [
            "Retrieved Similar Keywords:\n",
            "hanuman mantra for good sleep (Similarity Score: 0.44672407672375125)\n",
            "mantra to chant before bed for a good night's sleep (Similarity Score: 0.6266186293154306)\n",
            "mantra for good health and happiness, kalki purana sloka (Similarity Score: 1.0)\n",
            "wealtth, sri rama navami (Similarity Score: 1.0)\n",
            "relief from all problems (Similarity Score: 1.0)\n"
          ]
        }
      ]
    },
    {
      "cell_type": "code",
      "source": [
        "relevant_keywords = [word.lower().strip() for word in relevant_keywords]\n",
        "retrieved_keywords = [word.lower().strip() for word, _ in similar_words]\n",
        "\n",
        "print(\"Retrieved:\", retrieved_keywords)\n",
        "print(\"Expected:\", relevant_keywords)"
      ],
      "metadata": {
        "colab": {
          "base_uri": "https://localhost:8080/"
        },
        "id": "M3llMbGyPHND",
        "outputId": "c2b91f83-86d5-4324-e942-deed04661f00"
      },
      "execution_count": null,
      "outputs": [
        {
          "output_type": "stream",
          "name": "stdout",
          "text": [
            "Retrieved: ['hanuman mantra for good sleep', \"mantra to chant before bed for a good night's sleep\", 'mantra for good health and happiness, kalki purana sloka', 'wealtth, sri rama navami', 'relief from all problems']\n",
            "Expected: ['relif', 'rest']\n"
          ]
        }
      ]
    },
    {
      "cell_type": "code",
      "source": [
        "def mean_reciprocal_rank(results, relevant_keywords):\n",
        "    ranks = []\n",
        "    for i, (word, _) in enumerate(results):\n",
        "        if word in relevant_keywords:  # Ensure correct string matching\n",
        "            ranks.append(1 / (i + 1))\n",
        "    return np.mean(ranks) if ranks else 0\n",
        "\n",
        "# Example usage\n",
        "relevant_keywords = [\"health\"]  # Ensure exact matches\n",
        "mrr_score = mean_reciprocal_rank(similar_words, relevant_keywords)\n",
        "print(\"MRR Score:\", mrr_score)"
      ],
      "metadata": {
        "colab": {
          "base_uri": "https://localhost:8080/"
        },
        "id": "Ktb2S7x5PNr4",
        "outputId": "8b3f9875-d102-4e1f-a471-00383a64c137"
      },
      "execution_count": null,
      "outputs": [
        {
          "output_type": "stream",
          "name": "stdout",
          "text": [
            "MRR Score: 0\n"
          ]
        }
      ]
    },
    {
      "cell_type": "code",
      "source": [
        "import pandas as pd\n",
        "import numpy as np\n",
        "from sklearn.feature_extraction.text import TfidfVectorizer\n",
        "from sklearn.neighbors import NearestNeighbors\n",
        "\n",
        "# Load Excel file\n",
        "file_path = \"/content/data.xlsx\"  # Update with your actual file path\n",
        "xls = pd.ExcelFile(file_path)\n",
        "\n",
        "# Load keywords from Sheet1 and remove duplicates & missing values\n",
        "df_keywords = xls.parse(\"Sheet1\")[[\"Keywords\"]].drop_duplicates().dropna()\n",
        "\n",
        "# Convert keywords to lowercase and clean text\n",
        "df_keywords[\"Processed_Keywords\"] = df_keywords[\"Keywords\"].str.lower().str.strip()\n",
        "\n",
        "# Convert cleaned keywords into TF-IDF vectors\n",
        "vectorizer = TfidfVectorizer()\n",
        "tfidf_matrix = vectorizer.fit_transform(df_keywords[\"Processed_Keywords\"])\n",
        "\n",
        "# Initialize KNN model with Cosine Similarity\n",
        "knn = NearestNeighbors(n_neighbors=5, metric=\"manhattan\")\n",
        "knn.fit(tfidf_matrix)\n",
        "\n",
        "# Function to find similar keywords\n",
        "def get_similar_keywords(keyword, top_n=5):\n",
        "    query_vector = vectorizer.transform([keyword.lower().strip()])  # Convert input keyword to vector\n",
        "    distances, indices = knn.kneighbors(query_vector, n_neighbors=top_n)  # Find neighbors\n",
        "    similar_keywords = df_keywords.iloc[indices[0]][\"Processed_Keywords\"].values\n",
        "    return list(zip(similar_keywords, distances[0]))\n",
        "\n",
        "# Function to calculate Mean Reciprocal Rank (MRR)\n",
        "def mean_reciprocal_rank(results, relevant_keywords):\n",
        "    relevant_keywords = [word.lower().strip() for word in relevant_keywords]\n",
        "    ranks = []\n",
        "    for i, (word, _) in enumerate(results):\n",
        "        if word in relevant_keywords:\n",
        "            ranks.append(1 / (i + 1))  # 1 / rank position\n",
        "    return np.mean(ranks) if ranks else 0\n",
        "\n",
        "# Example usage\n",
        "keyword_input = \"health\"\n",
        "similar_words = get_similar_keywords(keyword_input)\n",
        "\n",
        "# Print retrieved similar keywords\n",
        "print(\"\\n🔹 Retrieved Similar Keywords:\")\n",
        "for word, score in similar_words:\n",
        "    print(f\"{word} (Similarity Score: {score:.4f})\")\n",
        "\n",
        "# Example evaluation\n",
        "relevant_keywords = [\"health\",\"wellness\"]  # Expected relevant keywords\n",
        "mrr_score = mean_reciprocal_rank(similar_words, relevant_keywords)\n",
        "print(f\"\\n📌 MRR Score: {mrr_score:.4f}\")\n"
      ],
      "metadata": {
        "colab": {
          "base_uri": "https://localhost:8080/"
        },
        "id": "OOkc3p50PWpH",
        "outputId": "0d4e6752-b1df-4d50-93b7-07f050157f33"
      },
      "execution_count": null,
      "outputs": [
        {
          "output_type": "stream",
          "name": "stdout",
          "text": [
            "\n",
            "🔹 Retrieved Similar Keywords:\n",
            "health (Similarity Score: 0.0000)\n",
            "children's health (Similarity Score: 1.1023)\n",
            "thiruppavai (Similarity Score: 2.0000)\n",
            "depression (Similarity Score: 2.0000)\n",
            "health, wealth, manifestation, influence (Similarity Score: 2.1819)\n",
            "\n",
            "📌 MRR Score: 1.0000\n"
          ]
        }
      ]
    }
  ]
}